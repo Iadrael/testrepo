{
 "cells": [
  {
   "cell_type": "markdown",
   "id": "c0e1064d",
   "metadata": {},
   "source": [
    "# Data Science Tools and Ecosystem\n",
    "\n"
   ]
  },
  {
   "cell_type": "markdown",
   "id": "323ff719",
   "metadata": {},
   "source": [
    "In this notebook, Data Science Tools and Ecosystem are summarized."
   ]
  },
  {
   "cell_type": "markdown",
   "id": "22868784",
   "metadata": {},
   "source": [
    "Some of the popular languages that Data Scientists use are:"
   ]
  },
  {
   "cell_type": "markdown",
   "id": "44652561",
   "metadata": {},
   "source": [
    "1. Python\n",
    "2. R\n",
    "3. Julia\n",
    "4. C++\n",
    "5. Java\n",
    "6. SQL"
   ]
  },
  {
   "cell_type": "markdown",
   "id": "ffec3f58",
   "metadata": {},
   "source": [
    "Some of the commonly used libraries used by Data Scientists include:\n",
    "1. TensorFlow.\n",
    "2. NumPy.\n",
    "3. SciPy.\n",
    "4. Pandas.\n",
    "5. Matplotlib.\n",
    "6. Keras.\n",
    "7. SciKit-Learn.\n",
    "8. PyTorch"
   ]
  },
  {
   "cell_type": "markdown",
   "id": "c8adce19",
   "metadata": {},
   "source": [
    "|Data Science Tools|\n",
    "|------------------|\n",
    "|RStudio|\n",
    "|Apache Spark|\n",
    "|TensorFlow|"
   ]
  },
  {
   "cell_type": "code",
   "execution_count": 10,
   "id": "0a654bc2",
   "metadata": {},
   "outputs": [
    {
     "name": "stdout",
     "output_type": "stream",
     "text": [
      "15\n",
      "21\n",
      "3.0\n"
     ]
    }
   ],
   "source": [
    "### Below are a few examples of evaluating arithmetic expressions in Python\n",
    "\n",
    "x = 18\n",
    "y = 3\n",
    "z = 5\n",
    "\n",
    "print(x - y)\n",
    "\n",
    "print(x + y)\n",
    "\n",
    "print((x - y)/z)\n"
   ]
  },
  {
   "cell_type": "code",
   "execution_count": 13,
   "id": "10a3ddf3",
   "metadata": {},
   "outputs": [
    {
     "data": {
      "text/plain": [
       "17"
      ]
     },
     "execution_count": 13,
     "metadata": {},
     "output_type": "execute_result"
    }
   ],
   "source": [
    "# This a simple arithmetic expression to mutiply then add integers\n",
    "(3*4) + 5"
   ]
  },
  {
   "cell_type": "code",
   "execution_count": 17,
   "id": "8211ab47",
   "metadata": {},
   "outputs": [
    {
     "data": {
      "text/plain": [
       "3.3333333333333335"
      ]
     },
     "execution_count": 17,
     "metadata": {},
     "output_type": "execute_result"
    }
   ],
   "source": [
    "# This will convert 200 minutes to hours by diving by 60\n",
    "# minutes = 200\n",
    "# hours = minutes/60\n",
    "200/60"
   ]
  },
  {
   "cell_type": "markdown",
   "id": "615d2f28",
   "metadata": {},
   "source": [
    "# *Objectives:*"
   ]
  },
  {
   "cell_type": "markdown",
   "id": "413874fd",
   "metadata": {},
   "source": [
    "List popular languages for Data Science\n",
    "\n",
    "* Python\n",
    "* R\n",
    "* Julia\n",
    "* C++\n",
    "* Java\n",
    "* SQL"
   ]
  },
  {
   "cell_type": "markdown",
   "id": "323001bb",
   "metadata": {},
   "source": [
    "## Author\n",
    "Carlos Andrés Guzmán Gil "
   ]
  },
  {
   "cell_type": "code",
   "execution_count": null,
   "id": "36d0cdf4",
   "metadata": {},
   "outputs": [],
   "source": []
  }
 ],
 "metadata": {
  "kernelspec": {
   "display_name": "Python 3 (ipykernel)",
   "language": "python",
   "name": "python3"
  },
  "language_info": {
   "codemirror_mode": {
    "name": "ipython",
    "version": 3
   },
   "file_extension": ".py",
   "mimetype": "text/x-python",
   "name": "python",
   "nbconvert_exporter": "python",
   "pygments_lexer": "ipython3",
   "version": "3.10.12"
  }
 },
 "nbformat": 4,
 "nbformat_minor": 5
}
